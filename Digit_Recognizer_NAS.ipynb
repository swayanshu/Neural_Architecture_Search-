{
  "nbformat": 4,
  "nbformat_minor": 0,
  "metadata": {
    "colab": {
      "provenance": []
    },
    "kernelspec": {
      "name": "python3",
      "display_name": "Python 3"
    },
    "language_info": {
      "name": "python"
    }
  },
  "cells": [
    {
      "cell_type": "code",
      "execution_count": 1,
      "metadata": {
        "colab": {
          "base_uri": "https://localhost:8080/"
        },
        "id": "2TFAIQKhk0lj",
        "outputId": "20aff54f-8c89-47a6-c1ad-76635b30a4a4"
      },
      "outputs": [
        {
          "output_type": "stream",
          "name": "stdout",
          "text": [
            "Downloading data from https://storage.googleapis.com/tensorflow/tf-keras-datasets/mnist.npz\n",
            "\u001b[1m11490434/11490434\u001b[0m \u001b[32m━━━━━━━━━━━━━━━━━━━━\u001b[0m\u001b[37m\u001b[0m \u001b[1m0s\u001b[0m 0us/step\n",
            "Training model with simple architecture...\n"
          ]
        },
        {
          "output_type": "stream",
          "name": "stderr",
          "text": [
            "/usr/local/lib/python3.11/dist-packages/keras/src/layers/convolutional/base_conv.py:107: UserWarning: Do not pass an `input_shape`/`input_dim` argument to a layer. When using Sequential models, prefer using an `Input(shape)` object as the first layer in the model instead.\n",
            "  super().__init__(activity_regularizer=activity_regularizer, **kwargs)\n"
          ]
        },
        {
          "output_type": "stream",
          "name": "stdout",
          "text": [
            "Epoch 1/3\n",
            "938/938 - 44s - 47ms/step - accuracy: 0.9514 - loss: 0.1708\n",
            "Epoch 2/3\n",
            "938/938 - 32s - 34ms/step - accuracy: 0.9829 - loss: 0.0564\n",
            "Epoch 3/3\n",
            "938/938 - 29s - 31ms/step - accuracy: 0.9885 - loss: 0.0379\n",
            "Accuracy with simple: 0.9825999736785889\n",
            "Training model with complex architecture...\n",
            "Epoch 1/3\n",
            "938/938 - 136s - 145ms/step - accuracy: 0.9577 - loss: 0.1370\n",
            "Epoch 2/3\n",
            "938/938 - 142s - 152ms/step - accuracy: 0.9869 - loss: 0.0407\n",
            "Epoch 3/3\n",
            "938/938 - 140s - 149ms/step - accuracy: 0.9912 - loss: 0.0258\n",
            "Accuracy with complex: 0.9876999855041504\n",
            "Training model with advanced architecture...\n",
            "Epoch 1/3\n",
            "938/938 - 50s - 53ms/step - accuracy: 0.4738 - loss: 1.5473\n",
            "Epoch 2/3\n",
            "938/938 - 48s - 51ms/step - accuracy: 0.5045 - loss: 1.0717\n",
            "Epoch 3/3\n",
            "938/938 - 47s - 50ms/step - accuracy: 0.5087 - loss: 0.9174\n",
            "Accuracy with advanced: 0.5117999911308289\n",
            "Best model architecture: advanced with accuracy: 0.9876999855041504\n"
          ]
        }
      ],
      "source": [
        "import tensorflow as tf\n",
        "from tensorflow import keras\n",
        "from tensorflow.keras import layers\n",
        "from tensorflow.keras.datasets import mnist\n",
        "from tensorflow.keras.utils import to_categorical\n",
        "from sklearn.model_selection import train_test_split\n",
        "\n",
        "# Load MNIST dataset\n",
        "(x_train, y_train), (x_test, y_test) = mnist.load_data()\n",
        "x_train = x_train.reshape(x_train.shape[0], 28, 28, 1).astype('float32') / 255\n",
        "x_test = x_test.reshape(x_test.shape[0], 28, 28, 1).astype('float32') / 255\n",
        "y_train = to_categorical(y_train, 10)\n",
        "y_test = to_categorical(y_test, 10)\n",
        "\n",
        "# Define a function to create models with different architectures\n",
        "def create_model(architecture='simple'):\n",
        "    model = keras.Sequential()\n",
        "\n",
        "    if architecture == 'simple':\n",
        "        model.add(layers.Conv2D(32, (3, 3), activation='relu', input_shape=(28, 28, 1)))\n",
        "        model.add(layers.MaxPooling2D((2, 2)))\n",
        "        model.add(layers.Flatten())\n",
        "        model.add(layers.Dense(128, activation='relu'))\n",
        "    elif architecture == 'complex':\n",
        "        model.add(layers.Conv2D(32, (3, 3), activation='relu', input_shape=(28, 28, 1)))\n",
        "        model.add(layers.Conv2D(64, (3, 3), activation='relu'))\n",
        "        model.add(layers.MaxPooling2D((2, 2)))\n",
        "        model.add(layers.Flatten())\n",
        "        model.add(layers.Dense(128, activation='relu'))\n",
        "        model.add(layers.Dense(64, activation='relu'))\n",
        "    else:\n",
        "        model.add(layers.Conv2D(64, (3, 3), activation='relu', input_shape=(28, 28, 1)))\n",
        "        model.add(layers.MaxPooling2D((2, 2)))\n",
        "        model.add(layers.Flatten())\n",
        "        model.add(layers.Dense(128, activation='relu'))\n",
        "        model.add(layers.Dense(10, activation='softmax'))\n",
        "\n",
        "    model.add(layers.Dense(10, activation='softmax'))\n",
        "    model.compile(optimizer='adam', loss='categorical_crossentropy', metrics=['accuracy'])\n",
        "\n",
        "    return model\n",
        "\n",
        "# Define a list of possible architectures to search from\n",
        "architectures = ['simple', 'complex', 'advanced']\n",
        "\n",
        "# Initialize variables for the best model\n",
        "best_model = None\n",
        "best_accuracy = 0\n",
        "\n",
        "# Search over the architectures and train models\n",
        "for architecture in architectures:\n",
        "    print(f\"Training model with {architecture} architecture...\")\n",
        "    model = create_model(architecture)\n",
        "\n",
        "    # Train the model\n",
        "    model.fit(x_train, y_train, epochs=3, batch_size=64, verbose=2)\n",
        "\n",
        "    # Evaluate the model\n",
        "    loss, accuracy = model.evaluate(x_test, y_test, verbose=0)\n",
        "    print(f\"Accuracy with {architecture}: {accuracy}\")\n",
        "\n",
        "    # Update best model if the current model performs better\n",
        "    if accuracy > best_accuracy:\n",
        "        best_accuracy = accuracy\n",
        "        best_model = model\n",
        "\n",
        "print(f\"Best model architecture: {architecture} with accuracy: {best_accuracy}\")\n"
      ]
    }
  ]
}